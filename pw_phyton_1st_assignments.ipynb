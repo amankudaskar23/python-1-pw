{
  "nbformat": 4,
  "nbformat_minor": 0,
  "metadata": {
    "colab": {
      "provenance": []
    },
    "kernelspec": {
      "name": "python3",
      "display_name": "Python 3"
    },
    "language_info": {
      "name": "python"
    }
  },
  "cells": [
    {
      "cell_type": "code",
      "execution_count": null,
      "metadata": {
        "id": "LFdSJP_zt_st"
      },
      "outputs": [],
      "source": [
        "# 1/Explain the key features of Python that make it a popular choice for programming0\n",
        "\n",
        "#Python is a high-level, easy-to-read, versatile programming language with vast libraries,\n",
        " #making it ideal for everything from web development to data science.\n"
      ]
    },
    {
      "cell_type": "markdown",
      "source": [],
      "metadata": {
        "id": "HtW6TMjbukCC"
      }
    },
    {
      "cell_type": "code",
      "source": [
        " #2.Describe the role of predefined keywords in Python and provide examples of how they are used in a program\n",
        "\n",
        " #Predefined keywords in Python are reserved words that define the language's\n",
        " #syntax and cannot be used as variable names (e.g., if, for, def, class)."
      ],
      "metadata": {
        "id": "aRalFOmquhDF"
      },
      "execution_count": null,
      "outputs": []
    },
    {
      "cell_type": "code",
      "source": [
        "#3.Compare and contrast mutable and immutable objects in Python with examples\n",
        "\n",
        "#Mutable objects in Python can be changed after creation (e.g., list), while immutable\n",
        "#objects cannot be modified once created (e.g., tuple, str)."
      ],
      "metadata": {
        "id": "SwVVQH_AvBll"
      },
      "execution_count": null,
      "outputs": []
    },
    {
      "cell_type": "code",
      "source": [
        "#4.Discuss the different types of operators in Python and provide examples of how they are used\n",
        "\n",
        "#Python has various types of operators like arithmetic, comparison, logical, assignment, bitwise, membership, and\n",
        "#identity operators used to perform different operations on data.\n",
        "\n",
        "\n",
        "\n"
      ],
      "metadata": {
        "id": "vF8DL4RovcGR"
      },
      "execution_count": 8,
      "outputs": []
    },
    {
      "cell_type": "code",
      "source": [
        "#5.Explain the concept of type casting in Python with examples\n",
        "\n",
        "#Type casting in Python is the process of converting one data type into another,\n",
        "#such as converting a string to an integer or a float to a string.\n",
        "\n",
        "\n",
        "\n"
      ],
      "metadata": {
        "id": "o7s1Q8dhvTQo"
      },
      "execution_count": 7,
      "outputs": []
    },
    {
      "cell_type": "code",
      "source": [
        "#6 How do conditional statements work in Python? Illustrate with examples\n",
        "\n",
        "#Conditional statements in Python use if, elif, and else to execute code blocks based on whether conditions are True or False.\n"
      ],
      "metadata": {
        "id": "ZfEK6j53wW64"
      },
      "execution_count": 9,
      "outputs": []
    },
    {
      "cell_type": "code",
      "source": [
        "#7 Describe the different types of loops in Python and their use cases with examples.\n",
        "\n",
        "#Python has two main types of loops—for and while—used to repeat a block of code multiple times until a condition is met.\n",
        "\n"
      ],
      "metadata": {
        "id": "ZuSduyDHw3rc"
      },
      "execution_count": null,
      "outputs": []
    }
  ]
}